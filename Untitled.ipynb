{
 "cells": [
  {
   "cell_type": "code",
   "execution_count": 1,
   "metadata": {
    "collapsed": true
   },
   "outputs": [],
   "source": [
    "import pandas as pd\n",
    "import numpy as np"
   ]
  },
  {
   "cell_type": "code",
   "execution_count": 2,
   "metadata": {
    "collapsed": true
   },
   "outputs": [],
   "source": [
    "df13 = pd.read_csv(\"ci2013.csv\")"
   ]
  },
  {
   "cell_type": "code",
   "execution_count": 3,
   "metadata": {
    "collapsed": false
   },
   "outputs": [
    {
     "data": {
      "text/plain": [
       "(35911, 20)"
      ]
     },
     "execution_count": 3,
     "metadata": {},
     "output_type": "execute_result"
    }
   ],
   "source": [
    "df13.shape"
   ]
  },
  {
   "cell_type": "code",
   "execution_count": 6,
   "metadata": {
    "collapsed": false
   },
   "outputs": [
    {
     "data": {
      "text/plain": [
       "CCN                              int64\n",
       "REPORTDATETIME                  object\n",
       "SHIFT                           object\n",
       "OFFENSE                         object\n",
       "METHOD                          object\n",
       "LASTMODIFIEDDATE                object\n",
       "BLOCKSITEADDRESS                object\n",
       "BLOCKXCOORD                    float64\n",
       "BLOCKYCOORD                    float64\n",
       "WARD                           float64\n",
       "ANC                             object\n",
       "DISTRICT                        object\n",
       "PSA                            float64\n",
       "NEIGHBORHOODCLUSTER            float64\n",
       "BUSINESSIMPROVEMENTDISTRICT     object\n",
       "BLOCK_GROUP                     object\n",
       "CENSUS_TRACT                   float64\n",
       "VOTING_PRECINCT                 object\n",
       "START_DATE                      object\n",
       "END_DATE                        object\n",
       "dtype: object"
      ]
     },
     "execution_count": 6,
     "metadata": {},
     "output_type": "execute_result"
    }
   ],
   "source": [
    "df13.dtypes"
   ]
  },
  {
   "cell_type": "code",
   "execution_count": 7,
   "metadata": {
    "collapsed": false
   },
   "outputs": [
    {
     "data": {
      "text/plain": [
       "CCN                                0\n",
       "REPORTDATETIME                     0\n",
       "SHIFT                              0\n",
       "OFFENSE                            0\n",
       "METHOD                             0\n",
       "LASTMODIFIEDDATE                   0\n",
       "BLOCKSITEADDRESS                   0\n",
       "BLOCKXCOORD                        0\n",
       "BLOCKYCOORD                        0\n",
       "WARD                               3\n",
       "ANC                                0\n",
       "DISTRICT                           0\n",
       "PSA                               22\n",
       "NEIGHBORHOODCLUSTER              461\n",
       "BUSINESSIMPROVEMENTDISTRICT    30383\n",
       "BLOCK_GROUP                      144\n",
       "CENSUS_TRACT                     144\n",
       "VOTING_PRECINCT                   12\n",
       "START_DATE                         1\n",
       "END_DATE                          27\n",
       "dtype: int64"
      ]
     },
     "execution_count": 7,
     "metadata": {},
     "output_type": "execute_result"
    }
   ],
   "source": [
    "df13.isnull().sum()"
   ]
  },
  {
   "cell_type": "code",
   "execution_count": 9,
   "metadata": {
    "collapsed": false
   },
   "outputs": [
    {
     "data": {
      "text/plain": [
       "0          7/27/2004 8:30:00 PM\n",
       "1         5/22/2009 12:00:00 AM\n",
       "2         5/22/2009 12:00:00 AM\n",
       "3          1/1/2009 12:00:00 AM\n",
       "4           3/7/2010 2:45:00 AM\n",
       "5         12/29/2008 8:00:00 PM\n",
       "6                           NaN\n",
       "7                           NaN\n",
       "8                           NaN\n",
       "9          4/5/2011 10:32:00 PM\n",
       "10        5/12/2011 11:15:00 PM\n",
       "11         1/9/2013 12:59:00 AM\n",
       "12         3/20/2013 9:00:00 PM\n",
       "13         4/15/2012 3:00:00 AM\n",
       "14         9/10/2013 6:43:00 PM\n",
       "15         10/1/2012 4:00:00 AM\n",
       "16        10/14/2012 2:00:00 AM\n",
       "17         1/1/2013 12:15:00 AM\n",
       "18         1/1/2013 12:45:00 AM\n",
       "19         1/1/2013 12:18:00 AM\n",
       "20          1/1/2013 1:15:00 AM\n",
       "21          1/1/2013 1:28:00 AM\n",
       "22          1/1/2013 1:30:00 AM\n",
       "23          1/1/2013 2:26:00 AM\n",
       "24          1/1/2013 2:24:00 AM\n",
       "25          1/1/2013 3:10:00 AM\n",
       "26          1/1/2013 3:12:00 AM\n",
       "27          1/1/2013 3:14:00 AM\n",
       "28          1/1/2013 3:30:00 AM\n",
       "29          1/1/2013 3:38:00 AM\n",
       "                  ...          \n",
       "35881     12/31/2013 8:55:00 AM\n",
       "35882     12/31/2013 7:15:00 AM\n",
       "35883     12/16/2013 4:25:00 PM\n",
       "35884     12/24/2013 3:00:00 PM\n",
       "35885     12/30/2013 4:00:00 PM\n",
       "35886     12/14/2013 5:10:00 PM\n",
       "35887      11/5/2013 8:20:00 PM\n",
       "35888     11/2/2013 11:00:00 PM\n",
       "35889    11/18/2013 12:05:00 PM\n",
       "35890     11/19/2013 2:30:00 PM\n",
       "35891     11/21/2013 8:00:00 AM\n",
       "35892     11/23/2013 1:31:00 AM\n",
       "35893     12/11/2013 3:00:00 PM\n",
       "35894    12/15/2013 11:15:00 PM\n",
       "35895     12/11/2013 6:00:00 PM\n",
       "35896    12/23/2013 10:50:00 PM\n",
       "35897     12/18/2013 7:55:00 AM\n",
       "35898      11/3/2013 5:10:00 PM\n",
       "35899     11/1/2013 12:00:00 PM\n",
       "35900    12/30/2013 12:10:00 PM\n",
       "35901     10/31/2013 3:35:00 PM\n",
       "35902     11/22/2013 7:37:00 PM\n",
       "35903      12/2/2013 7:55:00 AM\n",
       "35904     11/20/2013 9:30:00 PM\n",
       "35905     12/30/2013 7:00:00 AM\n",
       "35906    10/12/2013 10:00:00 PM\n",
       "35907    12/20/2013 10:45:00 PM\n",
       "35908      12/2/2013 9:30:00 PM\n",
       "35909      7/23/2015 9:52:00 AM\n",
       "35910       8/5/2015 1:40:00 PM\n",
       "Name: END_DATE, dtype: object"
      ]
     },
     "execution_count": 9,
     "metadata": {},
     "output_type": "execute_result"
    }
   ],
   "source": [
    "df13[\"END_DATE\"]"
   ]
  },
  {
   "cell_type": "code",
   "execution_count": null,
   "metadata": {
    "collapsed": true
   },
   "outputs": [],
   "source": []
  }
 ],
 "metadata": {
  "kernelspec": {
   "display_name": "Python 2",
   "language": "python",
   "name": "python2"
  },
  "language_info": {
   "codemirror_mode": {
    "name": "ipython",
    "version": 2
   },
   "file_extension": ".py",
   "mimetype": "text/x-python",
   "name": "python",
   "nbconvert_exporter": "python",
   "pygments_lexer": "ipython2",
   "version": "2.7.12"
  }
 },
 "nbformat": 4,
 "nbformat_minor": 0
}
